{
 "cells": [
  {
   "cell_type": "code",
   "execution_count": null,
   "id": "6fff4ed9",
   "metadata": {},
   "outputs": [],
   "source": [
    "class TreeNode:\n",
    "    def __init__(self,val=None,children=[]):\n",
    "        self._val = val\n",
    "        self._children = children\n",
    "    \n",
    "    def is_empty(self):\n",
    "        return self._val is None\n",
    "\n",
    "    def __str__(self):\n",
    "        if self.is_empty(): return \"\"\n",
    "        else:\n",
    "            str_so_far = f\" {str(self._val)}\"\n",
    "            for child in self._children:\n",
    "                str_so_far += TreeNode.__str__(child)\n",
    "            return str_so_far\n",
    "        \n",
    "    def __repr__(self):\n",
    "        return str(self)\n",
    "        \n",
    "    def __len__(self):\n",
    "        if self.is_empty(): return 0\n",
    "        else:\n",
    "            length_so_far = 1\n",
    "            for child in self._children:\n",
    "                length_so_far += TreeNode.__len__(child)\n",
    "            return length_so_far\n",
    "            "
   ]
  },
  {
   "cell_type": "code",
   "execution_count": 13,
   "id": "400e5238",
   "metadata": {},
   "outputs": [
    {
     "data": {
      "text/plain": [
       " 2 1 3"
      ]
     },
     "execution_count": 13,
     "metadata": {},
     "output_type": "execute_result"
    }
   ],
   "source": [
    "t1 = TreeNode(2,[TreeNode(1,[TreeNode(3)])])\n",
    "t1"
   ]
  },
  {
   "cell_type": "code",
   "execution_count": 14,
   "id": "ed417ec1",
   "metadata": {},
   "outputs": [
    {
     "data": {
      "text/plain": [
       "3"
      ]
     },
     "execution_count": 14,
     "metadata": {},
     "output_type": "execute_result"
    }
   ],
   "source": [
    "len(t1)"
   ]
  },
  {
   "cell_type": "code",
   "execution_count": null,
   "id": "0fe783c5",
   "metadata": {},
   "outputs": [],
   "source": []
  }
 ],
 "metadata": {
  "kernelspec": {
   "display_name": "mle",
   "language": "python",
   "name": "python3"
  },
  "language_info": {
   "codemirror_mode": {
    "name": "ipython",
    "version": 3
   },
   "file_extension": ".py",
   "mimetype": "text/x-python",
   "name": "python",
   "nbconvert_exporter": "python",
   "pygments_lexer": "ipython3",
   "version": "3.11.8"
  }
 },
 "nbformat": 4,
 "nbformat_minor": 5
}
