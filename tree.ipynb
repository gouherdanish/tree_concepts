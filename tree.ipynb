{
 "cells": [
  {
   "cell_type": "code",
   "execution_count": 72,
   "id": "c6b6dfe3",
   "metadata": {},
   "outputs": [],
   "source": [
    "from collections import deque"
   ]
  },
  {
   "cell_type": "code",
   "execution_count": 73,
   "id": "f4cac10c",
   "metadata": {},
   "outputs": [
    {
     "data": {
      "text/plain": [
       "1"
      ]
     },
     "execution_count": 73,
     "metadata": {},
     "output_type": "execute_result"
    }
   ],
   "source": [
    "q = deque()\n",
    "q.append(4)\n",
    "len(q)"
   ]
  },
  {
   "cell_type": "code",
   "execution_count": 116,
   "id": "6fff4ed9",
   "metadata": {},
   "outputs": [],
   "source": [
    "class TreeNode:\n",
    "    def __init__(self,val=None,children=[]):\n",
    "        self._val = val\n",
    "        self._children = children\n",
    "    \n",
    "    def is_empty(self):\n",
    "        return self._val is None\n",
    "\n",
    "    # def __str__(self,depth=0):\n",
    "    #     if self.is_empty(): return \"\"\n",
    "    #     else:\n",
    "    #         str_so_far = \" \"*depth + f\"{self._val}\\n\"\n",
    "    #         for child in self._children:\n",
    "    #             str_so_far += TreeNode.__str__(child,depth+1)\n",
    "    #         return str_so_far\n",
    "\n",
    "    def __str__(self):\n",
    "        \"\"\"\n",
    "        Find the height of tree\n",
    "        Starting from root node, go down level by level \n",
    "        At each level, print all the nodes\n",
    "\n",
    "        Use BFS\n",
    "        \"\"\"\n",
    "        def _form_str(val,level,is_fn,is_ln):\n",
    "            print(val,level,is_fn,is_ln)\n",
    "            if is_fn and is_ln: \n",
    "                print(\"C1\")\n",
    "                return f\"{' '*level} {val}\\n\"\n",
    "            elif is_fn: \n",
    "                print(\"C2\")\n",
    "                return f\"{' '*level} {val} \"\n",
    "            elif is_ln: \n",
    "                print(\"C3\")\n",
    "                return f\"{val}\\n\"\n",
    "            else:\n",
    "                print(\"C4\") \n",
    "                return f\"{val} \"\n",
    "        \n",
    "        height = self.height()\n",
    "        str_so_far = ''\n",
    "        fn_at_level_map = {}\n",
    "        ln_at_level_map = {}\n",
    "        q = deque()\n",
    "        root = self\n",
    "        q.append((root,height,True,True))\n",
    "        curr_level = height\n",
    "        while q:\n",
    "            node,level,is_fc,is_lc = q.popleft()\n",
    "            node_val = node._val\n",
    "            node_is_fn_at_this_level, node_is_ln_at_this_level = False, False\n",
    "            fn_exists = fn_at_level_map.get(level) is not None\n",
    "            ln_exists = ln_at_level_map.get(level) is not None\n",
    "            if is_fc and not fn_exists: \n",
    "                node_is_fn_at_this_level = True\n",
    "                fn_at_level_map[level] = node_val \n",
    "            if is_lc and not ln_exists: \n",
    "                if len(q):\n",
    "                    next_node,next_level,next_is_fc,next_is_lc = q.popleft()\n",
    "                    q.appendleft((next_node,next_level,next_is_fc,next_is_lc))\n",
    "                    if next_level < level:\n",
    "                        node_is_ln_at_this_level = True\n",
    "                        ln_at_level_map[level] = node_val \n",
    "                    else:\n",
    "                        node_is_ln_at_this_level = False\n",
    "                else:\n",
    "                    node_is_ln_at_this_level = True\n",
    "                    ln_at_level_map[level] = node_val \n",
    "            print(f'Processing {node._val} @{level}level: [{is_fc} : {node_is_fn_at_this_level}] [{is_lc} : {node_is_ln_at_this_level}]')\n",
    "            str_so_far += _form_str(node_val,level,node_is_fn_at_this_level,node_is_ln_at_this_level)\n",
    "            for i, child in enumerate(node._children):\n",
    "                print(f\"Node {node._val} has child {child._val}\")\n",
    "                if i == 0 and i == len(node._children)-1: q.append((child,level-1,True,True))\n",
    "                elif i == 0: q.append((child,level-1,True,False))\n",
    "                elif i == len(node._children)-1: q.append((child,level-1,False,True))\n",
    "                else: q.append((child,level-1,False,False))\n",
    "            print(f\"Length of Q: {len(q)} - {fn_at_level_map} - {ln_at_level_map}\")\n",
    "        return str_so_far\n",
    "        \n",
    "        \n",
    "    def __repr__(self):\n",
    "        return str(self)\n",
    "        \n",
    "    def __len__(self):\n",
    "        if self.is_empty(): return 0\n",
    "        else:\n",
    "            length_so_far = 1\n",
    "            for child in self._children:\n",
    "                length_so_far += TreeNode.__len__(child)\n",
    "            return length_so_far\n",
    "        \n",
    "    def height(self):\n",
    "        def dfs(self):\n",
    "            if self.is_empty(): return 0\n",
    "            else:\n",
    "                height_so_far = 1\n",
    "                for child in self._children:\n",
    "                    height_so_far = max(height_so_far,1+dfs(child))\n",
    "                return height_so_far\n",
    "        return dfs(self)\n",
    "            "
   ]
  },
  {
   "cell_type": "code",
   "execution_count": 117,
   "id": "400e5238",
   "metadata": {},
   "outputs": [
    {
     "name": "stdout",
     "output_type": "stream",
     "text": [
      "Processing 2 @4level: [True : True] [True : True]\n",
      "2 4 True True\n",
      "C1\n",
      "Node 2 has child 1\n",
      "Length of Q: 1 - {4: 2} - {4: 2}\n",
      "Processing 1 @3level: [True : True] [True : True]\n",
      "1 3 True True\n",
      "C1\n",
      "Node 1 has child 3\n",
      "Length of Q: 1 - {4: 2, 3: 1} - {4: 2, 3: 1}\n",
      "Processing 3 @2level: [True : True] [True : True]\n",
      "3 2 True True\n",
      "C1\n",
      "Node 3 has child 4\n",
      "Length of Q: 1 - {4: 2, 3: 1, 2: 3} - {4: 2, 3: 1, 2: 3}\n",
      "Processing 4 @1level: [True : True] [True : True]\n",
      "4 1 True True\n",
      "C1\n",
      "Length of Q: 0 - {4: 2, 3: 1, 2: 3, 1: 4} - {4: 2, 3: 1, 2: 3, 1: 4}\n"
     ]
    },
    {
     "data": {
      "text/plain": [
       "     2\n",
       "    1\n",
       "   3\n",
       "  4"
      ]
     },
     "execution_count": 117,
     "metadata": {},
     "output_type": "execute_result"
    }
   ],
   "source": [
    "t1 = TreeNode(2,[TreeNode(1,[TreeNode(3,[TreeNode(4)])])])\n",
    "t1"
   ]
  },
  {
   "cell_type": "code",
   "execution_count": 118,
   "id": "0fe783c5",
   "metadata": {},
   "outputs": [
    {
     "name": "stdout",
     "output_type": "stream",
     "text": [
      "Processing 2 @3level: [True : True] [True : True]\n",
      "2 3 True True\n",
      "C1\n",
      "Node 2 has child 1\n",
      "Length of Q: 1 - {3: 2} - {3: 2}\n",
      "Processing 1 @2level: [True : True] [True : True]\n",
      "1 2 True True\n",
      "C1\n",
      "Node 1 has child 3\n",
      "Node 1 has child 4\n",
      "Length of Q: 2 - {3: 2, 2: 1} - {3: 2, 2: 1}\n",
      "Processing 3 @1level: [True : True] [False : False]\n",
      "3 1 True False\n",
      "C2\n",
      "Length of Q: 1 - {3: 2, 2: 1, 1: 3} - {3: 2, 2: 1}\n",
      "Processing 4 @1level: [False : False] [True : True]\n",
      "4 1 False True\n",
      "C3\n",
      "Length of Q: 0 - {3: 2, 2: 1, 1: 3} - {3: 2, 2: 1, 1: 4}\n"
     ]
    },
    {
     "data": {
      "text/plain": [
       "    2\n",
       "   1\n",
       "  3 4"
      ]
     },
     "execution_count": 118,
     "metadata": {},
     "output_type": "execute_result"
    }
   ],
   "source": [
    "t1 = TreeNode(2,[TreeNode(1,[TreeNode(3),TreeNode(4)])])\n",
    "t1"
   ]
  },
  {
   "cell_type": "code",
   "execution_count": 119,
   "id": "5f03333a",
   "metadata": {},
   "outputs": [
    {
     "name": "stdout",
     "output_type": "stream",
     "text": [
      "Processing 2 @3level: [True : True] [True : True]\n",
      "2 3 True True\n",
      "C1\n",
      "Node 2 has child 1\n",
      "Node 2 has child 10\n",
      "Length of Q: 2 - {3: 2} - {3: 2}\n",
      "Processing 1 @2level: [True : True] [False : False]\n",
      "1 2 True False\n",
      "C2\n",
      "Node 1 has child 3\n",
      "Node 1 has child 4\n",
      "Node 1 has child 5\n",
      "Length of Q: 4 - {3: 2, 2: 1} - {3: 2}\n",
      "Processing 10 @2level: [False : False] [True : True]\n",
      "10 2 False True\n",
      "C3\n",
      "Node 10 has child 30\n",
      "Node 10 has child 40\n",
      "Length of Q: 5 - {3: 2, 2: 1} - {3: 2, 2: 10}\n",
      "Processing 3 @1level: [True : True] [False : False]\n",
      "3 1 True False\n",
      "C2\n",
      "Length of Q: 4 - {3: 2, 2: 1, 1: 3} - {3: 2, 2: 10}\n",
      "Processing 4 @1level: [False : False] [False : False]\n",
      "4 1 False False\n",
      "C4\n",
      "Length of Q: 3 - {3: 2, 2: 1, 1: 3} - {3: 2, 2: 10}\n",
      "Processing 5 @1level: [False : False] [True : False]\n",
      "5 1 False False\n",
      "C4\n",
      "Length of Q: 2 - {3: 2, 2: 1, 1: 3} - {3: 2, 2: 10}\n",
      "Processing 30 @1level: [True : False] [False : False]\n",
      "30 1 False False\n",
      "C4\n",
      "Length of Q: 1 - {3: 2, 2: 1, 1: 3} - {3: 2, 2: 10}\n",
      "Processing 40 @1level: [False : False] [True : True]\n",
      "40 1 False True\n",
      "C3\n",
      "Length of Q: 0 - {3: 2, 2: 1, 1: 3} - {3: 2, 2: 10, 1: 40}\n"
     ]
    },
    {
     "data": {
      "text/plain": [
       "    2\n",
       "   1 10\n",
       "  3 4 5 30 40"
      ]
     },
     "execution_count": 119,
     "metadata": {},
     "output_type": "execute_result"
    }
   ],
   "source": [
    "t1 = TreeNode(2,[TreeNode(1,[TreeNode(3),TreeNode(4),TreeNode(5)]),TreeNode(10,[TreeNode(30),TreeNode(40)])])\n",
    "t1"
   ]
  },
  {
   "cell_type": "code",
   "execution_count": null,
   "id": "55563b77",
   "metadata": {},
   "outputs": [],
   "source": []
  }
 ],
 "metadata": {
  "kernelspec": {
   "display_name": "mle",
   "language": "python",
   "name": "python3"
  },
  "language_info": {
   "codemirror_mode": {
    "name": "ipython",
    "version": 3
   },
   "file_extension": ".py",
   "mimetype": "text/x-python",
   "name": "python",
   "nbconvert_exporter": "python",
   "pygments_lexer": "ipython3",
   "version": "3.11.8"
  }
 },
 "nbformat": 4,
 "nbformat_minor": 5
}
